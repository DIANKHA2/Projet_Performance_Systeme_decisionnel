{
 "cells": [
  {
   "cell_type": "code",
   "execution_count": 101,
   "id": "52bca532",
   "metadata": {},
   "outputs": [
    {
     "data": {
      "text/html": [
       "<div>\n",
       "<style scoped>\n",
       "    .dataframe tbody tr th:only-of-type {\n",
       "        vertical-align: middle;\n",
       "    }\n",
       "\n",
       "    .dataframe tbody tr th {\n",
       "        vertical-align: top;\n",
       "    }\n",
       "\n",
       "    .dataframe thead th {\n",
       "        text-align: right;\n",
       "    }\n",
       "</style>\n",
       "<table border=\"1\" class=\"dataframe\">\n",
       "  <thead>\n",
       "    <tr style=\"text-align: right;\">\n",
       "      <th></th>\n",
       "      <th>Type</th>\n",
       "      <th>ArrivalTime</th>\n",
       "      <th>LES</th>\n",
       "      <th>NAgent</th>\n",
       "      <th>Lf1</th>\n",
       "      <th>Lf2</th>\n",
       "      <th>Lf3</th>\n",
       "      <th>Lf4</th>\n",
       "      <th>Lf5</th>\n",
       "      <th>Lf6</th>\n",
       "      <th>Lf7</th>\n",
       "      <th>Lf8</th>\n",
       "      <th>WaitingTime</th>\n",
       "    </tr>\n",
       "  </thead>\n",
       "  <tbody>\n",
       "    <tr>\n",
       "      <th>0</th>\n",
       "      <td>30175</td>\n",
       "      <td>28980.0</td>\n",
       "      <td>0.0</td>\n",
       "      <td>0</td>\n",
       "      <td>1</td>\n",
       "      <td>0</td>\n",
       "      <td>0</td>\n",
       "      <td>0</td>\n",
       "      <td>0</td>\n",
       "      <td>0</td>\n",
       "      <td>0</td>\n",
       "      <td>0</td>\n",
       "      <td>120.0</td>\n",
       "    </tr>\n",
       "    <tr>\n",
       "      <th>1</th>\n",
       "      <td>30560</td>\n",
       "      <td>29040.0</td>\n",
       "      <td>0.0</td>\n",
       "      <td>1</td>\n",
       "      <td>0</td>\n",
       "      <td>1</td>\n",
       "      <td>0</td>\n",
       "      <td>0</td>\n",
       "      <td>0</td>\n",
       "      <td>0</td>\n",
       "      <td>0</td>\n",
       "      <td>0</td>\n",
       "      <td>300.0</td>\n",
       "    </tr>\n",
       "    <tr>\n",
       "      <th>2</th>\n",
       "      <td>30175</td>\n",
       "      <td>29280.0</td>\n",
       "      <td>120.0</td>\n",
       "      <td>2</td>\n",
       "      <td>1</td>\n",
       "      <td>0</td>\n",
       "      <td>0</td>\n",
       "      <td>0</td>\n",
       "      <td>0</td>\n",
       "      <td>0</td>\n",
       "      <td>0</td>\n",
       "      <td>0</td>\n",
       "      <td>120.0</td>\n",
       "    </tr>\n",
       "    <tr>\n",
       "      <th>3</th>\n",
       "      <td>30175</td>\n",
       "      <td>29340.0</td>\n",
       "      <td>120.0</td>\n",
       "      <td>4</td>\n",
       "      <td>1</td>\n",
       "      <td>0</td>\n",
       "      <td>0</td>\n",
       "      <td>0</td>\n",
       "      <td>0</td>\n",
       "      <td>0</td>\n",
       "      <td>0</td>\n",
       "      <td>0</td>\n",
       "      <td>240.0</td>\n",
       "    </tr>\n",
       "    <tr>\n",
       "      <th>4</th>\n",
       "      <td>30172</td>\n",
       "      <td>29280.0</td>\n",
       "      <td>540.0</td>\n",
       "      <td>2</td>\n",
       "      <td>0</td>\n",
       "      <td>0</td>\n",
       "      <td>1</td>\n",
       "      <td>0</td>\n",
       "      <td>0</td>\n",
       "      <td>0</td>\n",
       "      <td>0</td>\n",
       "      <td>0</td>\n",
       "      <td>360.0</td>\n",
       "    </tr>\n",
       "    <tr>\n",
       "      <th>...</th>\n",
       "      <td>...</td>\n",
       "      <td>...</td>\n",
       "      <td>...</td>\n",
       "      <td>...</td>\n",
       "      <td>...</td>\n",
       "      <td>...</td>\n",
       "      <td>...</td>\n",
       "      <td>...</td>\n",
       "      <td>...</td>\n",
       "      <td>...</td>\n",
       "      <td>...</td>\n",
       "      <td>...</td>\n",
       "      <td>...</td>\n",
       "    </tr>\n",
       "    <tr>\n",
       "      <th>1320</th>\n",
       "      <td>30179</td>\n",
       "      <td>42780.0</td>\n",
       "      <td>360.0</td>\n",
       "      <td>58</td>\n",
       "      <td>0</td>\n",
       "      <td>0</td>\n",
       "      <td>0</td>\n",
       "      <td>0</td>\n",
       "      <td>1</td>\n",
       "      <td>0</td>\n",
       "      <td>0</td>\n",
       "      <td>0</td>\n",
       "      <td>360.0</td>\n",
       "    </tr>\n",
       "    <tr>\n",
       "      <th>1321</th>\n",
       "      <td>30066</td>\n",
       "      <td>42780.0</td>\n",
       "      <td>60.0</td>\n",
       "      <td>58</td>\n",
       "      <td>0</td>\n",
       "      <td>0</td>\n",
       "      <td>0</td>\n",
       "      <td>0</td>\n",
       "      <td>0</td>\n",
       "      <td>1</td>\n",
       "      <td>0</td>\n",
       "      <td>0</td>\n",
       "      <td>360.0</td>\n",
       "    </tr>\n",
       "    <tr>\n",
       "      <th>1322</th>\n",
       "      <td>30179</td>\n",
       "      <td>42840.0</td>\n",
       "      <td>360.0</td>\n",
       "      <td>69</td>\n",
       "      <td>0</td>\n",
       "      <td>0</td>\n",
       "      <td>0</td>\n",
       "      <td>0</td>\n",
       "      <td>1</td>\n",
       "      <td>0</td>\n",
       "      <td>0</td>\n",
       "      <td>0</td>\n",
       "      <td>300.0</td>\n",
       "    </tr>\n",
       "    <tr>\n",
       "      <th>1323</th>\n",
       "      <td>30560</td>\n",
       "      <td>43080.0</td>\n",
       "      <td>240.0</td>\n",
       "      <td>77</td>\n",
       "      <td>0</td>\n",
       "      <td>1</td>\n",
       "      <td>0</td>\n",
       "      <td>0</td>\n",
       "      <td>0</td>\n",
       "      <td>0</td>\n",
       "      <td>0</td>\n",
       "      <td>0</td>\n",
       "      <td>60.0</td>\n",
       "    </tr>\n",
       "    <tr>\n",
       "      <th>1324</th>\n",
       "      <td>30560</td>\n",
       "      <td>43080.0</td>\n",
       "      <td>240.0</td>\n",
       "      <td>77</td>\n",
       "      <td>0</td>\n",
       "      <td>1</td>\n",
       "      <td>0</td>\n",
       "      <td>0</td>\n",
       "      <td>0</td>\n",
       "      <td>0</td>\n",
       "      <td>0</td>\n",
       "      <td>0</td>\n",
       "      <td>60.0</td>\n",
       "    </tr>\n",
       "  </tbody>\n",
       "</table>\n",
       "<p>1325 rows × 13 columns</p>\n",
       "</div>"
      ],
      "text/plain": [
       "       Type  ArrivalTime    LES  NAgent  Lf1  Lf2  Lf3  Lf4  Lf5  Lf6  Lf7  \\\n",
       "0     30175      28980.0    0.0       0    1    0    0    0    0    0    0   \n",
       "1     30560      29040.0    0.0       1    0    1    0    0    0    0    0   \n",
       "2     30175      29280.0  120.0       2    1    0    0    0    0    0    0   \n",
       "3     30175      29340.0  120.0       4    1    0    0    0    0    0    0   \n",
       "4     30172      29280.0  540.0       2    0    0    1    0    0    0    0   \n",
       "...     ...          ...    ...     ...  ...  ...  ...  ...  ...  ...  ...   \n",
       "1320  30179      42780.0  360.0      58    0    0    0    0    1    0    0   \n",
       "1321  30066      42780.0   60.0      58    0    0    0    0    0    1    0   \n",
       "1322  30179      42840.0  360.0      69    0    0    0    0    1    0    0   \n",
       "1323  30560      43080.0  240.0      77    0    1    0    0    0    0    0   \n",
       "1324  30560      43080.0  240.0      77    0    1    0    0    0    0    0   \n",
       "\n",
       "      Lf8  WaitingTime  \n",
       "0       0        120.0  \n",
       "1       0        300.0  \n",
       "2       0        120.0  \n",
       "3       0        240.0  \n",
       "4       0        360.0  \n",
       "...   ...          ...  \n",
       "1320    0        360.0  \n",
       "1321    0        360.0  \n",
       "1322    0        300.0  \n",
       "1323    0         60.0  \n",
       "1324    0         60.0  \n",
       "\n",
       "[1325 rows x 13 columns]"
      ]
     },
     "execution_count": 101,
     "metadata": {},
     "output_type": "execute_result"
    }
   ],
   "source": [
    "import pandas as pd\n",
    "data=pd.read_csv(\"data2janvier.csv\",sep=\";\")\n",
    "data"
   ]
  },
  {
   "cell_type": "code",
   "execution_count": 102,
   "id": "d5d6df48",
   "metadata": {},
   "outputs": [],
   "source": [
    "data=data.drop([\"ArrivalTime\",\"LES\",\"NAgent\",\"Lf1\",\"Lf2\",\"Lf3\",\"Lf4\",\"Lf5\",\"Lf6\",\"Lf7\",\"Lf8\"], axis=1)"
   ]
  },
  {
   "cell_type": "code",
   "execution_count": 103,
   "id": "34059a80",
   "metadata": {},
   "outputs": [
    {
     "data": {
      "text/html": [
       "<div>\n",
       "<style scoped>\n",
       "    .dataframe tbody tr th:only-of-type {\n",
       "        vertical-align: middle;\n",
       "    }\n",
       "\n",
       "    .dataframe tbody tr th {\n",
       "        vertical-align: top;\n",
       "    }\n",
       "\n",
       "    .dataframe thead th {\n",
       "        text-align: right;\n",
       "    }\n",
       "</style>\n",
       "<table border=\"1\" class=\"dataframe\">\n",
       "  <thead>\n",
       "    <tr style=\"text-align: right;\">\n",
       "      <th></th>\n",
       "      <th>Type</th>\n",
       "      <th>WaitingTime</th>\n",
       "    </tr>\n",
       "  </thead>\n",
       "  <tbody>\n",
       "    <tr>\n",
       "      <th>0</th>\n",
       "      <td>30175</td>\n",
       "      <td>120.0</td>\n",
       "    </tr>\n",
       "    <tr>\n",
       "      <th>1</th>\n",
       "      <td>30560</td>\n",
       "      <td>300.0</td>\n",
       "    </tr>\n",
       "    <tr>\n",
       "      <th>2</th>\n",
       "      <td>30175</td>\n",
       "      <td>120.0</td>\n",
       "    </tr>\n",
       "    <tr>\n",
       "      <th>3</th>\n",
       "      <td>30175</td>\n",
       "      <td>240.0</td>\n",
       "    </tr>\n",
       "    <tr>\n",
       "      <th>4</th>\n",
       "      <td>30172</td>\n",
       "      <td>360.0</td>\n",
       "    </tr>\n",
       "    <tr>\n",
       "      <th>...</th>\n",
       "      <td>...</td>\n",
       "      <td>...</td>\n",
       "    </tr>\n",
       "    <tr>\n",
       "      <th>1320</th>\n",
       "      <td>30179</td>\n",
       "      <td>360.0</td>\n",
       "    </tr>\n",
       "    <tr>\n",
       "      <th>1321</th>\n",
       "      <td>30066</td>\n",
       "      <td>360.0</td>\n",
       "    </tr>\n",
       "    <tr>\n",
       "      <th>1322</th>\n",
       "      <td>30179</td>\n",
       "      <td>300.0</td>\n",
       "    </tr>\n",
       "    <tr>\n",
       "      <th>1323</th>\n",
       "      <td>30560</td>\n",
       "      <td>60.0</td>\n",
       "    </tr>\n",
       "    <tr>\n",
       "      <th>1324</th>\n",
       "      <td>30560</td>\n",
       "      <td>60.0</td>\n",
       "    </tr>\n",
       "  </tbody>\n",
       "</table>\n",
       "<p>1325 rows × 2 columns</p>\n",
       "</div>"
      ],
      "text/plain": [
       "       Type  WaitingTime\n",
       "0     30175        120.0\n",
       "1     30560        300.0\n",
       "2     30175        120.0\n",
       "3     30175        240.0\n",
       "4     30172        360.0\n",
       "...     ...          ...\n",
       "1320  30179        360.0\n",
       "1321  30066        360.0\n",
       "1322  30179        300.0\n",
       "1323  30560         60.0\n",
       "1324  30560         60.0\n",
       "\n",
       "[1325 rows x 2 columns]"
      ]
     },
     "execution_count": 103,
     "metadata": {},
     "output_type": "execute_result"
    }
   ],
   "source": [
    "data"
   ]
  },
  {
   "cell_type": "code",
   "execution_count": 104,
   "id": "5a2d3c8b",
   "metadata": {},
   "outputs": [
    {
     "data": {
      "text/plain": [
       "<seaborn.axisgrid.PairGrid at 0xc4bc9b8>"
      ]
     },
     "execution_count": 104,
     "metadata": {},
     "output_type": "execute_result"
    },
    {
     "data": {
      "image/png": "[encoded data removed]",
      "text/plain": [
       "<Figure size 360x360 with 6 Axes>"
      ]
     },
     "metadata": {
      "needs_background": "light"
     },
     "output_type": "display_data"
    }
   ],
   "source": [
    "import seaborn as sns \n",
    "sns.pairplot(data)"
   ]
  },
  {
   "cell_type": "markdown",
   "id": "01cf0af6",
   "metadata": {},
   "source": [
    "Le WaitingTime pour chaque services"
   ]
  },
  {
   "cell_type": "code",
   "execution_count": 105,
   "id": "af339f69",
   "metadata": {},
   "outputs": [],
   "source": [
    "Y= data['WaitingTime']"
   ]
  },
  {
   "cell_type": "code",
   "execution_count": 106,
   "id": "783be3aa",
   "metadata": {},
   "outputs": [
    {
     "data": {
      "text/plain": [
       "0       120.0\n",
       "1       300.0\n",
       "2       120.0\n",
       "3       240.0\n",
       "4       360.0\n",
       "        ...  \n",
       "1320    360.0\n",
       "1321    360.0\n",
       "1322    300.0\n",
       "1323     60.0\n",
       "1324     60.0\n",
       "Name: WaitingTime, Length: 1325, dtype: float64"
      ]
     },
     "execution_count": 106,
     "metadata": {},
     "output_type": "execute_result"
    }
   ],
   "source": [
    "Y"
   ]
  },
  {
   "cell_type": "markdown",
   "id": "d918805a",
   "metadata": {},
   "source": [
    "Les différents types de services"
   ]
  },
  {
   "cell_type": "code",
   "execution_count": 107,
   "id": "c6729884",
   "metadata": {},
   "outputs": [],
   "source": [
    "X= data['Type']"
   ]
  },
  {
   "cell_type": "code",
   "execution_count": 110,
   "id": "afe189af",
   "metadata": {},
   "outputs": [
    {
     "data": {
      "text/plain": [
       "0       30175\n",
       "1       30560\n",
       "2       30175\n",
       "3       30175\n",
       "4       30172\n",
       "        ...  \n",
       "1320    30179\n",
       "1321    30066\n",
       "1322    30179\n",
       "1323    30560\n",
       "1324    30560\n",
       "Name: Type, Length: 1325, dtype: int64"
      ]
     },
     "execution_count": 110,
     "metadata": {},
     "output_type": "execute_result"
    }
   ],
   "source": [
    "X"
   ]
  },
  {
   "cell_type": "markdown",
   "id": "d69e7650",
   "metadata": {},
   "source": [
    "Essayons de prédire le WaitingTime pour chaque services avec le model RandomForestClassifier()"
   ]
  },
  {
   "cell_type": "code",
   "execution_count": 116,
   "id": "261ed001",
   "metadata": {},
   "outputs": [],
   "source": [
    "from sklearn.model_selection import train_test_split\n",
    "from sklearn.preprocessing import LabelEncoder \n",
    "from sklearn.ensemble import RandomForestClassifier"
   ]
  },
  {
   "cell_type": "markdown",
   "id": "2be43a7c",
   "metadata": {},
   "source": [
    "80% de données dans le train-set et 20% de données dans le test-set"
   ]
  },
  {
   "cell_type": "code",
   "execution_count": 117,
   "id": "65a6eceb",
   "metadata": {},
   "outputs": [],
   "source": [
    "X_train,X_test,Y_train,Y_test = train_test_split(X,Y, test_size=0.2)"
   ]
  },
  {
   "cell_type": "markdown",
   "id": "180039ea",
   "metadata": {},
   "source": [
    "# Transformer"
   ]
  },
  {
   "cell_type": "code",
   "execution_count": 119,
   "id": "5982898e",
   "metadata": {},
   "outputs": [
    {
     "data": {
      "text/plain": [
       "array([6, 6, 5, 2, 6, 6, 6, 2, 1, 2, 1, 2, 2, 3, 2, 2, 6, 2, 4, 1, 3, 2,\n",
       "       2, 2, 4, 2, 2, 2, 2, 6, 6, 2, 4, 3, 2, 6, 3, 2, 2, 2, 3, 1, 1, 2,\n",
       "       6, 6, 2, 6, 4, 6, 6, 2, 2, 2, 1, 2, 2, 2, 6, 2, 6, 2, 2, 3, 2, 6,\n",
       "       1, 2, 2, 4, 4, 4, 4, 2, 2, 6, 4, 1, 2, 6, 6, 2, 2, 2, 6, 2, 1, 3,\n",
       "       6, 2, 6, 4, 2, 2, 4, 1, 2, 2, 2, 6, 6, 1, 4, 4, 2, 2, 2, 2, 2, 6,\n",
       "       3, 6, 6, 3, 2, 3, 0, 4, 6, 4, 6, 2, 2, 2, 6, 2, 6, 6, 4, 1, 6, 4,\n",
       "       6, 6, 2, 2, 2, 2, 6, 2, 4, 3, 6, 1, 6, 2, 2, 4, 6, 2, 2, 6, 2, 6,\n",
       "       2, 3, 4, 6, 4, 2, 2, 2, 2, 6, 2, 2, 4, 1, 2, 6, 2, 4, 4, 4, 2, 4,\n",
       "       0, 1, 2, 2, 3, 6, 1, 6, 6, 2, 1, 1, 1, 6, 3, 6, 2, 2, 2, 4, 1, 0,\n",
       "       2, 4, 4, 2, 6, 2, 2, 2, 4, 2, 6, 2, 6, 6, 2, 3, 4, 2, 6, 1, 2, 2,\n",
       "       4, 2, 4, 6, 0, 4, 1, 6, 6, 4, 6, 1, 2, 6, 6, 4, 6, 3, 2, 2, 2, 2,\n",
       "       0, 4, 2, 2, 4, 2, 2, 1, 4, 2, 1, 1, 2, 3, 2, 4, 5, 3, 4, 2, 4, 2,\n",
       "       2], dtype=int32)"
      ]
     },
     "execution_count": 119,
     "metadata": {},
     "output_type": "execute_result"
    }
   ],
   "source": [
    "encoder =preprocessing.LabelEncoder()\n",
    "X_train_transformed = encoder.fit_transform(X_train)\n",
    "X_train_transformed\n",
    "X_test_transformed = encoder.fit_transform(X_test)\n",
    "X_test_transformed"
   ]
  },
  {
   "cell_type": "markdown",
   "id": "6e410287",
   "metadata": {},
   "source": [
    "Estimator "
   ]
  },
  {
   "cell_type": "code",
   "execution_count": null,
   "id": "c5b92039",
   "metadata": {
    "scrolled": true
   },
   "outputs": [],
   "source": [
    "model=RandomForestClassifier()\n",
    "model.fit(X_train_transformed,Y_train)"
   ]
  },
  {
   "cell_type": "markdown",
   "id": "5d095db9",
   "metadata": {},
   "source": [
    "Prédiction"
   ]
  },
  {
   "cell_type": "code",
   "execution_count": null,
   "id": "68ec09b0",
   "metadata": {},
   "outputs": [],
   "source": [
    "y_pred = model.predict((X_test_transformed)\n",
    "data= y_pred"
   ]
  },
  {
   "cell_type": "code",
   "execution_count": 124,
   "id": "bfbd09ec",
   "metadata": {},
   "outputs": [],
   "source": [
    "import seaborn as sns "
   ]
  },
  {
   "cell_type": "raw",
   "id": "0e3b4d29",
   "metadata": {},
   "source": [
    "sns.pairplot(data)"
   ]
  },
  {
   "cell_type": "code",
   "execution_count": null,
   "id": "907748bc",
   "metadata": {},
   "outputs": [],
   "source": []
  }
 ],
 "metadata": {
  "kernelspec": {
   "display_name": "Python 3 (ipykernel)",
   "language": "python",
   "name": "python3"
  },
  "language_info": {
   "codemirror_mode": {
    "name": "ipython",
    "version": 3
   },
   "file_extension": ".py",
   "mimetype": "text/x-python",
   "name": "python",
   "nbconvert_exporter": "python",
   "pygments_lexer": "ipython3",
   "version": "3.9.7"
  }
 },
 "nbformat": 4,
 "nbformat_minor": 5
}
